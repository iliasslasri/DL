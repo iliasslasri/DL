{
  "cells": [
    {
      "cell_type": "markdown",
      "metadata": {
        "id": "WpYK9fIlyZCq"
      },
      "source": [
        "# Lab Deep Learning / Multi-Layer Perceptron for classification / in pytorch\n",
        "\n",
        "**Author: geoffroy.peeters@telecom-paris.fr**\n",
        "\n",
        "For any remark or suggestion, please feel free to contact me.\n",
        "\n",
        "Last edit: 2020/04/27 peeters\n",
        "\n",
        "Read the \"introduction to pytorch\" slides first: https://perso.telecom-paristech.fr/gpeeters/doc/pytorch/\n",
        "\n",
        "**Is is recommended that you first perform the ```Lab Deep Learning / Multi-Layer Perceptron for regression / in pytorch``` Lab to understand how to write a Neural Network in pytorch.**\n",
        "\n",
        "\n",
        "## Objective:\n",
        "\n",
        "The objective of this lab is to develop a two hidden layers MLP to perform image **classification**.\n",
        "\n",
        "While the previous Lab ```Lab Deep Learning / Multi-Layer Perceptron for regression / in pytorch``` focused on how to write a Neural Network, the present Lab focuses on managing datasets and splitting training and testing .\n",
        "\n",
        "We will use MNIST for the image dataset.\n",
        "\n",
        "## Your task:\n",
        "\n",
        "You need to add the missing parts in the code (parts between ```# --- START CODE HERE``` and ```# --- END CODE HERE```)\n",
        "\n",
        "## Documentation:\n",
        "- NN: https://pytorch.org/docs/stable/nn.html\n",
        "- Autograd: https://pytorch.org/docs/stable/autograd.html\n",
        "- Optim: https://pytorch.org/docs/stable/optim.html\n"
      ]
    },
    {
      "cell_type": "code",
      "execution_count": 1,
      "metadata": {
        "id": "h6o3NZfNyZCt"
      },
      "outputs": [],
      "source": [
        "import torch\n",
        "import torch.nn as nn\n",
        "import torch.nn.functional as F\n",
        "import torch.optim as optim\n",
        "from torchvision import datasets, transforms\n",
        "import matplotlib.pyplot as plt"
      ]
    },
    {
      "cell_type": "markdown",
      "metadata": {
        "id": "Vy7u-IVkyZCu"
      },
      "source": [
        "## Data management\n",
        "\n",
        "It is common to separate the datasets into\n",
        "- a **training** part (used to find the network parameters which minimize the loss)\n",
        "- a **test part** (used to estimate the performances).\n",
        "\n",
        "The training part can itself be further splitted into a training and a validation part (the validation part is then used to fix the hyper-parameters of the system).\n",
        "\n",
        "When performing ```batch gradient descent``` the whole training set is used to compute the gradients (which itself is used for the parameter optimization).\n",
        "However when performing ```stochastic or mini-batch gradient descent``` only a part of the training data is used at each iteration.\n",
        "\n",
        "We therefore needs to write all the necessary code, to get these mini-batches of data, be sure that all data have been seen, potentially randomize the order of appearance of these data and potentially perform some modifications of the data before giving them to the network.\n",
        "\n",
        "Fortunatelly, pytorch has associated to it (but not included in it) a nice package (```torchvision```) which allows to do all that for us.\n",
        "\n",
        "This package allows to perform these process for any datasets but has a pre-tuned method for the ```MNIST```datasets.\n",
        "\n",
        "### Datasets\n",
        "\n",
        "In the following we will us ```datasets.MNIST``` to load the train and test data.\n",
        "\n",
        "We need to tell it to download the data, where to dowload them and if we want the training or the testing part of it.\n",
        "\n",
        "We then tell it if we want to apply some transformations to the data.\n",
        "\n",
        "For this lab, we will transform the data by\n",
        "- 1) transforming them to torch tensors (using ```transforms.ToTensor()```); since by default they are not torch tensors\n",
        "- 2) normalize them to zero mean and unit standard deviation (using ```transforms.Normalize()```).\n",
        "\n",
        "It is of course possible to also apply data augmentation.\n",
        "\n",
        "Since we have several transforms to be performed, we will compose them using ```transforms.Compose([transform1, transform2])```\n",
        "\n",
        "The corresponding datasets is a class which contains the pairs of [input tensors $X$, corresponding ground-truth label $y$].\n",
        "\n",
        "### Dataloader\n",
        "\n",
        "Another nice pytorch facility is the ```Dataloader``` which transforms the dataset to be used as an iterator (i.e. within ```for data in myDataloader: ```).\n",
        "\n",
        "Moreover, ```Dataloader``` allows to specify\n",
        "- how many data will be provided each time it is called (```batch_size```)\n",
        "- if the order of appearance of the data with be random (````shuffle````).\n",
        "\n",
        "We therefore convert our datasets (train and test) to ```DataLoader``` that are directly used as iterator during the iterations (it DataLoader manage directly the mini-batch and shuffling)."
      ]
    },
    {
      "cell_type": "code",
      "execution_count": 2,
      "metadata": {
        "id": "zsSEvakPyZCv"
      },
      "outputs": [
        {
          "name": "stdout",
          "output_type": "stream",
          "text": [
            "Downloading http://yann.lecun.com/exdb/mnist/train-images-idx3-ubyte.gz\n",
            "Failed to download (trying next):\n",
            "HTTP Error 403: Forbidden\n",
            "\n",
            "Downloading https://ossci-datasets.s3.amazonaws.com/mnist/train-images-idx3-ubyte.gz\n",
            "Downloading https://ossci-datasets.s3.amazonaws.com/mnist/train-images-idx3-ubyte.gz to ./data/MNIST/raw/train-images-idx3-ubyte.gz\n"
          ]
        },
        {
          "name": "stderr",
          "output_type": "stream",
          "text": [
            "100.0%\n"
          ]
        },
        {
          "name": "stdout",
          "output_type": "stream",
          "text": [
            "Extracting ./data/MNIST/raw/train-images-idx3-ubyte.gz to ./data/MNIST/raw\n",
            "\n",
            "Downloading http://yann.lecun.com/exdb/mnist/train-labels-idx1-ubyte.gz\n",
            "Failed to download (trying next):\n",
            "HTTP Error 403: Forbidden\n",
            "\n",
            "Downloading https://ossci-datasets.s3.amazonaws.com/mnist/train-labels-idx1-ubyte.gz\n",
            "Downloading https://ossci-datasets.s3.amazonaws.com/mnist/train-labels-idx1-ubyte.gz to ./data/MNIST/raw/train-labels-idx1-ubyte.gz\n"
          ]
        },
        {
          "name": "stderr",
          "output_type": "stream",
          "text": [
            "100.0%\n"
          ]
        },
        {
          "name": "stdout",
          "output_type": "stream",
          "text": [
            "Extracting ./data/MNIST/raw/train-labels-idx1-ubyte.gz to ./data/MNIST/raw\n",
            "\n",
            "Downloading http://yann.lecun.com/exdb/mnist/t10k-images-idx3-ubyte.gz\n",
            "Failed to download (trying next):\n",
            "HTTP Error 403: Forbidden\n",
            "\n",
            "Downloading https://ossci-datasets.s3.amazonaws.com/mnist/t10k-images-idx3-ubyte.gz\n",
            "Downloading https://ossci-datasets.s3.amazonaws.com/mnist/t10k-images-idx3-ubyte.gz to ./data/MNIST/raw/t10k-images-idx3-ubyte.gz\n"
          ]
        },
        {
          "name": "stderr",
          "output_type": "stream",
          "text": [
            "100.0%\n"
          ]
        },
        {
          "name": "stdout",
          "output_type": "stream",
          "text": [
            "Extracting ./data/MNIST/raw/t10k-images-idx3-ubyte.gz to ./data/MNIST/raw\n",
            "\n",
            "Downloading http://yann.lecun.com/exdb/mnist/t10k-labels-idx1-ubyte.gz\n",
            "Failed to download (trying next):\n",
            "HTTP Error 403: Forbidden\n",
            "\n",
            "Downloading https://ossci-datasets.s3.amazonaws.com/mnist/t10k-labels-idx1-ubyte.gz\n",
            "Downloading https://ossci-datasets.s3.amazonaws.com/mnist/t10k-labels-idx1-ubyte.gz to ./data/MNIST/raw/t10k-labels-idx1-ubyte.gz\n"
          ]
        },
        {
          "name": "stderr",
          "output_type": "stream",
          "text": [
            "100.0%"
          ]
        },
        {
          "name": "stdout",
          "output_type": "stream",
          "text": [
            "Extracting ./data/MNIST/raw/t10k-labels-idx1-ubyte.gz to ./data/MNIST/raw\n",
            "\n"
          ]
        },
        {
          "name": "stderr",
          "output_type": "stream",
          "text": [
            "\n"
          ]
        }
      ],
      "source": [
        "# --- START CODE HERE\n",
        "train_set = datasets.MNIST(root='./data', train=True, download=True, transform=transforms.Compose([transforms.ToTensor()]))\n",
        "train_loader = torch.utils.data.DataLoader(train_set, batch_size=32, shuffle=True)\n",
        "test_set = datasets.MNIST(root='./data', train=False, download=True, transform=transforms.Compose([transforms.ToTensor()]))\n",
        "test_loader = torch.utils.data.DataLoader(test_set, batch_size=32, shuffle=True)\n",
        "# --- END CODE HERE"
      ]
    },
    {
      "cell_type": "code",
      "execution_count": 3,
      "metadata": {
        "colab": {
          "base_uri": "https://localhost:8080/",
          "height": 240
        },
        "id": "FFuEXr0tyZCw",
        "outputId": "59ad5329-e7b3-4dd3-f0f7-79bbbcfde7f7"
      },
      "outputs": [
        {
          "name": "stdout",
          "output_type": "stream",
          "text": [
            "dataset type: <class 'torchvision.datasets.mnist.MNIST'>\n",
            "dataset size: 60000\n",
            "X data: torch.Size([1, 28, 28])\n",
            "y data: 5\n"
          ]
        }
      ],
      "source": [
        "print(\"dataset type: {}\".format(type(train_set)))\n",
        "print(\"dataset size: {}\".format(len(train_set)))\n",
        "print(\"X data: {}\".format(train_set[0][0].size()))\n",
        "print(\"y data: {}\".format(train_set[0][1]))"
      ]
    },
    {
      "cell_type": "markdown",
      "metadata": {
        "id": "piAf25dxyZCx"
      },
      "source": [
        "### Display the first 5 data of MNIST dataset."
      ]
    },
    {
      "cell_type": "code",
      "execution_count": 4,
      "metadata": {
        "id": "Jsa2MAEhyZCx"
      },
      "outputs": [
        {
          "data": {
            "image/png": "[encoded data removed]",
            "text/plain": [
              "<Figure size 640x480 with 5 Axes>"
            ]
          },
          "metadata": {},
          "output_type": "display_data"
        }
      ],
      "source": [
        "# ------------------------------------\n",
        "for num in range(0,5):\n",
        "    one_data = next(iter(train_loader))\n",
        "    plt.subplot(1,5,num+1)\n",
        "    plt.imshow(one_data[0][0][0,:,:])\n",
        "    plt.title(one_data[1][0].item())"
      ]
    },
    {
      "cell_type": "markdown",
      "metadata": {
        "id": "bo6-KX8UyZCy"
      },
      "source": [
        "## Network setting\n",
        "\n",
        "While image classification, is usually performed using Convolutional Neural Networks, we will use here a Multi-Layer-Perceptron (also named ```fully-connected```).\n",
        "For this, we will flatten (i.e. convert the iamge 2D matrix to a 1D vector) the input images.\n",
        "\n",
        "- The input images are of size 28*28 and are converted to vectors of size ```n_in```=784.\n",
        "\n",
        "- The two hidden layers have````n_h1````=500 and ```n_h2```=256 unit/neurons each and ```Relu```activations.\n",
        "\n",
        "- The output are the ```n_out```=10 classes (the 10 digits to be recognized).\n",
        "\n",
        "Since we deal with a muti-class problem (10 classes), the output activations is therefore a ```softmax```.\n",
        "\n",
        "Note that since the ```softmax```output will be given to a ```cross-entropy```, the ```log```et the latter can be directly added to the ```softmax```. This leads to the pytorch function ```F.log_softmax```.\n"
      ]
    },
    {
      "cell_type": "code",
      "execution_count": 5,
      "metadata": {
        "id": "H0uIIQb9yZCy"
      },
      "outputs": [],
      "source": [
        "class Net(nn.Module):\n",
        "    def __init__(self):\n",
        "        n_in = 28*28\n",
        "        n_h1 = 500\n",
        "        n_h2 = 256\n",
        "        n_out = 10\n",
        "        super(Net, self).__init__()\n",
        "        # --- START CODE HERE\n",
        "        self.fc1 = nn.Linear(n_in, n_h1)\n",
        "        self.fc2 = nn.Linear(n_h1, n_h2)\n",
        "        self.fc3 = nn.Linear(n_h2, n_out)\n",
        "        # --- END CODE HERE\n",
        "    def forward(self, x):\n",
        "        # --- START CODE HERE\n",
        "        x = x.view(-1, 28*28)\n",
        "        H1 = self.fc1(x)\n",
        "        H1 = F.relu(H1)\n",
        "        H2 = self.fc2(H1)\n",
        "        H2 = F.relu(H2)\n",
        "        x = self.fc3(H2)\n",
        "        # --- END CODE HERE\n",
        "        return F.log_softmax(x, dim=1)"
      ]
    },
    {
      "cell_type": "markdown",
      "metadata": {
        "id": "x7qcgKFwyZCz"
      },
      "source": [
        "## Defining the train and test functions\n",
        "\n",
        "In the present lab, we distinguish between train and test data.\n",
        "We therefore write\n",
        "- a train function (to learn the network parameters on the train data),\n",
        "- a test function (to evaluate the network's performances on the test data).\n",
        "\n",
        "The ```train``` and ```test```function will perform the computation for a given ```epoch```.\n",
        "The functions therefore only need to ```loop over``` the mini-batches.\n",
        "This is now easy since we defined our ```Dataloader```for train and test.\n",
        "\n",
        "For the train function, for each mini-batch, we  \n",
        "- compute the forward pass by passing the data to the model: haty = model(x)\n",
        "- compute the the loss (the criterion)\n",
        "- putting at zero the gradients of all the parameters of the network (this is important since, by default, pytorch accumulate the gradients over time)\n",
        "- computing the backpropagation (using as before .backward())\n",
        "- performing one step of optimization (using .step())\n",
        "\n",
        "For the train function, we set the model to train mode (```model.train()```). This allows to set some specific behaviours for training (such as activate the dropout).\n",
        "\n",
        "For the test function, we set the model to train mode (```model.eval()```). This allows to set some specific behaviours for training (such as removing the dropout).\n",
        "\n",
        "\n",
        "Since we are dealing with a multi-class problem (10 classes), we will minimize as loss the ```cross-entropy``` (named negative-log-likelihood ```nll_loss```in pytorch).\n",
        "Since ```nll_loss```does not contains the ```log``` we have added it directly to the softmax by using the ```log_softmax```as output activation of our network.\n",
        "\n",
        "Note that we could use the loss from the nn package (```torch.nn.NLLLoss```) it is then a class which needs to be first instanciated.\n",
        "We can also use the same but as a function (```F.nll_loss()```) which can be used directly without instanciating the class."
      ]
    },
    {
      "cell_type": "code",
      "execution_count": 6,
      "metadata": {
        "id": "3dGuPt96yZCz"
      },
      "outputs": [],
      "source": [
        "def train(model, train_loader, optimizer, epoch):\n",
        "    model.train()\n",
        "    for batch_idx, (data, target) in enumerate(train_loader):\n",
        "        # --- START CODE HERE\n",
        "        optimizer.zero_grad()\n",
        "        haty = model(data)\n",
        "        loss = F.nll_loss(haty, target)\n",
        "        loss.backward()\n",
        "        optimizer.step()\n",
        "        # --- END CODE HERE\n",
        "\n",
        "        if batch_idx % 100 == 0:\n",
        "            print('epoch {}, loss {}'.format(epoch, loss.item()))"
      ]
    },
    {
      "cell_type": "code",
      "execution_count": 8,
      "metadata": {
        "id": "zI8QtzV2yZC0"
      },
      "outputs": [],
      "source": [
        "def test(model, test_loader):\n",
        "    model.eval()\n",
        "    test_loss = 0\n",
        "    correct = 0\n",
        "    with torch.no_grad():\n",
        "        for data, target in test_loader:\n",
        "            # --- START CODE HERE\n",
        "            haty = model(data)\n",
        "            test_loss += F.nll_loss(haty, target, reduction='sum').item()\n",
        "            pred = haty.argmax(dim=1, keepdim=True)\n",
        "            correct += pred.eq(target.view_as(pred)).sum().item()\n",
        "            # --- STOP CODE HERE\n",
        "\n",
        "    test_loss /= len(test_loader.dataset)\n",
        "    correct /= len(test_loader.dataset)\n",
        "    print('\\nTest set: Average loss: {}, Accuracy: {}\\n'.format(test_loss, correct))"
      ]
    },
    {
      "cell_type": "markdown",
      "metadata": {
        "id": "9MXQIbcJyZC0"
      },
      "source": [
        "## Looping over epochs\n",
        "\n",
        "\n",
        "We finally define, how we will optimize our parameters by defining an optimizer.\n",
        "We will use here a very simple one: the SGD (```optim.SGD```) with a learning rate of 0.01.\n",
        "\n",
        "At each iteration, we then call the train and the test function."
      ]
    },
    {
      "cell_type": "code",
      "execution_count": 9,
      "metadata": {
        "id": "ofYcX05ZyZC0"
      },
      "outputs": [
        {
          "name": "stdout",
          "output_type": "stream",
          "text": [
            "epoch 1, loss 2.302427291870117\n",
            "epoch 1, loss 0.8820884823799133\n",
            "epoch 1, loss 0.5888131260871887\n",
            "epoch 1, loss 0.23545874655246735\n",
            "epoch 1, loss 0.20789752900600433\n",
            "epoch 1, loss 0.23536628484725952\n",
            "epoch 1, loss 0.5152804255485535\n",
            "epoch 1, loss 0.27564936876296997\n",
            "epoch 1, loss 0.2925455570220947\n",
            "epoch 1, loss 0.1406310349702835\n",
            "epoch 1, loss 0.16463278234004974\n",
            "epoch 1, loss 0.24519743025302887\n",
            "epoch 1, loss 0.212296724319458\n",
            "epoch 1, loss 0.13148099184036255\n",
            "epoch 1, loss 0.2979326546192169\n",
            "epoch 1, loss 0.2641334533691406\n",
            "epoch 1, loss 0.11849584430456161\n",
            "epoch 1, loss 0.12339095026254654\n",
            "epoch 1, loss 0.16098931431770325\n",
            "\n",
            "Test set: Average loss: 0.13755050113201142, Accuracy: 0.9585\n",
            "\n",
            "epoch 2, loss 0.3638482689857483\n",
            "epoch 2, loss 0.22810672223567963\n",
            "epoch 2, loss 0.07606598734855652\n",
            "epoch 2, loss 0.06864035874605179\n",
            "epoch 2, loss 0.0444769486784935\n",
            "epoch 2, loss 0.18746794760227203\n",
            "epoch 2, loss 0.117555633187294\n",
            "epoch 2, loss 0.10421247780323029\n",
            "epoch 2, loss 0.15156877040863037\n",
            "epoch 2, loss 0.06488426774740219\n",
            "epoch 2, loss 0.10557126998901367\n",
            "epoch 2, loss 0.07122674584388733\n",
            "epoch 2, loss 0.018352609127759933\n",
            "epoch 2, loss 0.16032648086547852\n",
            "epoch 2, loss 0.14294394850730896\n",
            "epoch 2, loss 0.0396728552877903\n",
            "epoch 2, loss 0.018704591318964958\n",
            "epoch 2, loss 0.02074979618191719\n",
            "epoch 2, loss 0.14810635149478912\n",
            "\n",
            "Test set: Average loss: 0.1197797600440681, Accuracy: 0.9622\n",
            "\n",
            "epoch 3, loss 0.010356573387980461\n",
            "epoch 3, loss 0.0709645226597786\n",
            "epoch 3, loss 0.1295534074306488\n",
            "epoch 3, loss 0.056943513453006744\n",
            "epoch 3, loss 0.02622363343834877\n",
            "epoch 3, loss 0.008064096793532372\n",
            "epoch 3, loss 0.19483236968517303\n",
            "epoch 3, loss 0.0955045074224472\n",
            "epoch 3, loss 0.0297321155667305\n",
            "epoch 3, loss 0.029424168169498444\n",
            "epoch 3, loss 0.166429340839386\n",
            "epoch 3, loss 0.02568081021308899\n",
            "epoch 3, loss 0.0932626947760582\n",
            "epoch 3, loss 0.3000617027282715\n",
            "epoch 3, loss 0.09715618193149567\n",
            "epoch 3, loss 0.24702639877796173\n",
            "epoch 3, loss 0.022992296144366264\n",
            "epoch 3, loss 0.20198382437229156\n",
            "epoch 3, loss 0.09914283454418182\n",
            "\n",
            "Test set: Average loss: 0.07641838467940688, Accuracy: 0.9743\n",
            "\n",
            "epoch 4, loss 0.03547180816531181\n",
            "epoch 4, loss 0.045835673809051514\n",
            "epoch 4, loss 0.015408662147819996\n",
            "epoch 4, loss 0.007566122338175774\n",
            "epoch 4, loss 0.03547896444797516\n",
            "epoch 4, loss 0.007803856395184994\n",
            "epoch 4, loss 0.11394477635622025\n",
            "epoch 4, loss 0.09889201819896698\n",
            "epoch 4, loss 0.18627971410751343\n",
            "epoch 4, loss 0.0024581151083111763\n",
            "epoch 4, loss 0.18195386230945587\n",
            "epoch 4, loss 0.06064491719007492\n",
            "epoch 4, loss 0.02925276942551136\n",
            "epoch 4, loss 0.0017896657809615135\n",
            "epoch 4, loss 0.00387171539478004\n",
            "epoch 4, loss 0.006900973152369261\n",
            "epoch 4, loss 0.1623629927635193\n",
            "epoch 4, loss 0.06489598006010056\n",
            "epoch 4, loss 0.017620066180825233\n",
            "\n",
            "Test set: Average loss: 0.09082355817891657, Accuracy: 0.9703\n",
            "\n",
            "epoch 5, loss 0.004655714146792889\n",
            "epoch 5, loss 0.043825555592775345\n",
            "epoch 5, loss 0.02290578931570053\n",
            "epoch 5, loss 0.11472190916538239\n",
            "epoch 5, loss 0.059745922684669495\n",
            "epoch 5, loss 0.07025572657585144\n",
            "epoch 5, loss 0.03471510112285614\n",
            "epoch 5, loss 0.012632003054022789\n",
            "epoch 5, loss 0.1205076053738594\n",
            "epoch 5, loss 0.008864494040608406\n",
            "epoch 5, loss 0.011288882233202457\n",
            "epoch 5, loss 0.1322416216135025\n",
            "epoch 5, loss 0.016812393441796303\n",
            "epoch 5, loss 0.01294407993555069\n",
            "epoch 5, loss 0.0072280955500900745\n",
            "epoch 5, loss 0.15303389728069305\n",
            "epoch 5, loss 0.026439735665917397\n",
            "epoch 5, loss 0.054890334606170654\n",
            "epoch 5, loss 0.0021380819380283356\n",
            "\n",
            "Test set: Average loss: 0.07794100632341579, Accuracy: 0.9745\n",
            "\n",
            "epoch 6, loss 0.0369441844522953\n",
            "epoch 6, loss 0.0029922123067080975\n",
            "epoch 6, loss 0.014921611174941063\n",
            "epoch 6, loss 0.007221130654215813\n",
            "epoch 6, loss 0.006294167600572109\n",
            "epoch 6, loss 0.04156487435102463\n",
            "epoch 6, loss 0.025280965492129326\n",
            "epoch 6, loss 0.013654371723532677\n",
            "epoch 6, loss 0.08270657062530518\n",
            "epoch 6, loss 0.002542247762903571\n",
            "epoch 6, loss 0.01511162705719471\n",
            "epoch 6, loss 0.0008985938038676977\n",
            "epoch 6, loss 0.03312359377741814\n",
            "epoch 6, loss 0.00978176761418581\n",
            "epoch 6, loss 0.001788846217095852\n",
            "epoch 6, loss 0.0024949212092906237\n",
            "epoch 6, loss 0.018891166895627975\n",
            "epoch 6, loss 0.0014026348944753408\n",
            "epoch 6, loss 0.03839951008558273\n",
            "\n",
            "Test set: Average loss: 0.06663637539539487, Accuracy: 0.9802\n",
            "\n",
            "epoch 7, loss 0.002795542124658823\n",
            "epoch 7, loss 0.014888828620314598\n",
            "epoch 7, loss 0.010260500013828278\n",
            "epoch 7, loss 0.004998248536139727\n",
            "epoch 7, loss 0.024405086413025856\n",
            "epoch 7, loss 0.04815049096941948\n",
            "epoch 7, loss 0.00948538351804018\n",
            "epoch 7, loss 0.007560781203210354\n",
            "epoch 7, loss 0.007502935826778412\n",
            "epoch 7, loss 0.007743984926491976\n",
            "epoch 7, loss 0.006084890104830265\n",
            "epoch 7, loss 0.00143870257306844\n",
            "epoch 7, loss 0.1388060599565506\n",
            "epoch 7, loss 0.07545869797468185\n",
            "epoch 7, loss 0.020168129354715347\n",
            "epoch 7, loss 0.007074270397424698\n",
            "epoch 7, loss 0.005699001252651215\n",
            "epoch 7, loss 0.0905393660068512\n",
            "epoch 7, loss 0.01001130323857069\n",
            "\n",
            "Test set: Average loss: 0.058781075836578385, Accuracy: 0.9817\n",
            "\n",
            "epoch 8, loss 0.0011942043201997876\n",
            "epoch 8, loss 0.0016352408565580845\n",
            "epoch 8, loss 0.002860970562323928\n",
            "epoch 8, loss 0.0029041559901088476\n",
            "epoch 8, loss 0.007047936785966158\n",
            "epoch 8, loss 0.00893339142203331\n",
            "epoch 8, loss 0.027128301560878754\n",
            "epoch 8, loss 0.0037344598677009344\n",
            "epoch 8, loss 0.0045994664542376995\n",
            "epoch 8, loss 0.09891235083341599\n",
            "epoch 8, loss 0.001556167844682932\n",
            "epoch 8, loss 0.028299782425165176\n",
            "epoch 8, loss 0.007145541720092297\n",
            "epoch 8, loss 0.0028066050726920366\n",
            "epoch 8, loss 0.006306019611656666\n",
            "epoch 8, loss 0.01953793875873089\n",
            "epoch 8, loss 0.0035462360829114914\n",
            "epoch 8, loss 0.03218149021267891\n",
            "epoch 8, loss 0.002073285635560751\n",
            "\n",
            "Test set: Average loss: 0.06966760500799865, Accuracy: 0.9794\n",
            "\n",
            "epoch 9, loss 0.003276850562542677\n",
            "epoch 9, loss 0.00023764002253301442\n",
            "epoch 9, loss 5.320795753505081e-05\n",
            "epoch 9, loss 0.004461399279534817\n",
            "epoch 9, loss 0.004558383021503687\n",
            "epoch 9, loss 0.00035485962871462107\n",
            "epoch 9, loss 0.018025552853941917\n",
            "epoch 9, loss 0.0011189038632437587\n",
            "epoch 9, loss 0.0015477158594876528\n",
            "epoch 9, loss 0.010843215510249138\n",
            "epoch 9, loss 0.012331424281001091\n",
            "epoch 9, loss 0.10527075082063675\n",
            "epoch 9, loss 0.001158625935204327\n",
            "epoch 9, loss 0.0052465032786130905\n",
            "epoch 9, loss 0.008141142316162586\n",
            "epoch 9, loss 0.0747247040271759\n",
            "epoch 9, loss 0.00860164500772953\n",
            "epoch 9, loss 0.021738849580287933\n",
            "epoch 9, loss 0.0021689082495868206\n",
            "\n",
            "Test set: Average loss: 0.06517622495433316, Accuracy: 0.9801\n",
            "\n",
            "epoch 10, loss 0.02609984390437603\n",
            "epoch 10, loss 0.005155967548489571\n",
            "epoch 10, loss 0.013199909590184689\n",
            "epoch 10, loss 0.002956246957182884\n",
            "epoch 10, loss 0.0022742892615497112\n",
            "epoch 10, loss 0.0030247741378843784\n",
            "epoch 10, loss 0.0025076682213693857\n",
            "epoch 10, loss 0.0033706631511449814\n",
            "epoch 10, loss 0.0020748821552842855\n",
            "epoch 10, loss 0.0005471787881106138\n",
            "epoch 10, loss 0.11979099363088608\n",
            "epoch 10, loss 0.002747324528172612\n",
            "epoch 10, loss 0.0013226722367107868\n",
            "epoch 10, loss 0.0018584969220682979\n",
            "epoch 10, loss 0.015728594735264778\n",
            "epoch 10, loss 0.0004556113271974027\n",
            "epoch 10, loss 0.025827236473560333\n",
            "epoch 10, loss 0.01717960461974144\n",
            "epoch 10, loss 0.06750809401273727\n",
            "\n",
            "Test set: Average loss: 0.06149758644123794, Accuracy: 0.9824\n",
            "\n"
          ]
        }
      ],
      "source": [
        "model = Net()\n",
        "optimizer = optim.SGD(model.parameters(), lr=0.01, momentum=0.9)\n",
        "nb_epoch = 10\n",
        "for epoch in range(1, nb_epoch + 1):\n",
        "        # --- START CODE HERE\n",
        "        train(model, train_loader, optimizer, epoch)\n",
        "        test(model, test_loader)\n",
        "        # --- END CODE HERE"
      ]
    },
    {
      "cell_type": "code",
      "execution_count": null,
      "metadata": {
        "id": "Rmga0J_oyZC1"
      },
      "outputs": [],
      "source": []
    }
  ],
  "metadata": {
    "colab": {
      "provenance": []
    },
    "kernelspec": {
      "display_name": "Python 3",
      "language": "python",
      "name": "python3"
    },
    "language_info": {
      "codemirror_mode": {
        "name": "ipython",
        "version": 3
      },
      "file_extension": ".py",
      "mimetype": "text/x-python",
      "name": "python",
      "nbconvert_exporter": "python",
      "pygments_lexer": "ipython3",
      "version": "3.11.2"
    },
    "toc": {
      "base_numbering": 1,
      "nav_menu": {},
      "number_sections": true,
      "sideBar": true,
      "skip_h1_title": false,
      "title_cell": "Table of Contents",
      "title_sidebar": "Contents",
      "toc_cell": false,
      "toc_position": {
        "height": "calc(100% - 180px)",
        "left": "10px",
        "top": "150px",
        "width": "165px"
      },
      "toc_section_display": true,
      "toc_window_display": false
    }
  },
  "nbformat": 4,
  "nbformat_minor": 0
}
